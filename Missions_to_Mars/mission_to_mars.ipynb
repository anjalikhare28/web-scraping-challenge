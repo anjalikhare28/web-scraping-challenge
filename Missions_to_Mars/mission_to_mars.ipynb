{
 "cells": [
  {
   "cell_type": "code",
   "execution_count": 115,
   "source": [
    "# Declare Dependencies \r\n",
    "from bs4 import BeautifulSoup\r\n",
    "from splinter import Browser\r\n",
    "import pandas as pd\r\n",
    "import requests\r\n",
    "#from selenium import webdriver"
   ],
   "outputs": [],
   "metadata": {}
  },
  {
   "cell_type": "code",
   "execution_count": 116,
   "source": [
    "#driver = webdriver.Chrome('C:/Users/Sweety/Downloads/chromedriver.exe') \r\n",
    "# Choose the executable path to driver \r\n",
    "executable_path = {'executable_path': 'C:/Users/Sweety/Downloads/chromedriver.exe'}\r\n",
    "browser = Browser('chrome', **executable_path, headless=False)"
   ],
   "outputs": [],
   "metadata": {}
  },
  {
   "cell_type": "code",
   "execution_count": 39,
   "source": [
    "# Visit Nasa news url through splinter module\r\n",
    "url = 'https://redplanetscience.com/'\r\n",
    "browser.visit(url)"
   ],
   "outputs": [],
   "metadata": {}
  },
  {
   "cell_type": "code",
   "execution_count": 40,
   "source": [
    "# HTML Object\r\n",
    "html = browser.html\r\n",
    "# Parse HTML with Beautiful Soup\r\n",
    "soup = BeautifulSoup(html)\r\n",
    "\r\n",
    "# Retrieve the latest element that contains news title and news_paragraph\r\n",
    "news_title = soup.find('div', class_='content_title').text\r\n",
    "news_p = soup.find('div', class_='article_teaser_body').text\r\n",
    "\r\n",
    "# Display scrapped data \r\n",
    "print(news_title)\r\n",
    "print(news_p)"
   ],
   "outputs": [
    {
     "output_type": "stream",
     "name": "stdout",
     "text": [
      "NASA's Ingenuity Mars Helicopter Recharges Its Batteries in Flight\n",
      "Headed to the Red Planet with the Perseverance rover, the pioneering helicopter is powered up for the first time in interplanetary space as part of a systems check.\n"
     ]
    }
   ],
   "metadata": {}
  },
  {
   "cell_type": "code",
   "execution_count": 65,
   "source": [
    "# Visit Mars Space Images through splinter module\r\n",
    "image_url_featured = 'https://spaceimages-mars.com/'\r\n",
    "browser.visit(image_url_featured)"
   ],
   "outputs": [],
   "metadata": {}
  },
  {
   "cell_type": "code",
   "execution_count": 87,
   "source": [
    "# HTML Object \r\n",
    "html_image = browser.html#requests.get(image_url_featured)\r\n",
    "\r\n",
    "# Parse HTML with Beautiful Soup\r\n",
    "soup = BeautifulSoup(html_image,'html.parser')\r\n",
    "#print(soup.prettify())\r\n",
    "images = soup.findAll('img')\r\n",
    "\r\n",
    "for image in images:\r\n",
    "    if 'featured' in image.attrs['src']:\r\n",
    "        featured = image.attrs['src']\r\n",
    "\r\n",
    "# Concatenate website url with scrapped route\r\n",
    "featured_image_url = image_url_featured + featured\r\n",
    "\r\n",
    "# Display full link to featured image\r\n",
    "featured_image_url"
   ],
   "outputs": [
    {
     "output_type": "execute_result",
     "data": {
      "text/plain": [
       "'https://spaceimages-mars.com/image/featured/mars3.jpg'"
      ]
     },
     "metadata": {},
     "execution_count": 87
    }
   ],
   "metadata": {}
  },
  {
   "cell_type": "code",
   "execution_count": 157,
   "source": [
    "# Visit Mars facts url \r\n",
    "facts_url = 'https://galaxyfacts-mars.com/'\r\n",
    "\r\n",
    "# Use Panda's `read_html` to parse the url\r\n",
    "mars_facts = pd.read_html(facts_url)\r\n",
    "\r\n",
    "# Find the mars facts DataFrame in the list of DataFrames as assign it to `mars_df`\r\n",
    "mars_df = mars_facts[0]\r\n",
    "\r\n",
    "# Assign the columns `['Description', 'Value']`\r\n",
    "mars_df.columns = ['Description','Value','Drop']\r\n",
    "mars_df = mars_df.drop(columns=['Drop'])\r\n",
    "# Set the index to the `Description` column without row indexing\r\n",
    "#mars_df.set_index('Description', inplace=True)\r\n",
    "mars_df\r\n",
    "# Save html code to folder Assets\r\n",
    "html_facts = mars_df.to_html(index=False)\r\n",
    "\r\n",
    "# Display mars_df\r\n",
    "html_facts"
   ],
   "outputs": [
    {
     "output_type": "execute_result",
     "data": {
      "text/plain": [
       "'<table border=\"1\" class=\"dataframe\">\\n  <thead>\\n    <tr style=\"text-align: right;\">\\n      <th>Description</th>\\n      <th>Value</th>\\n    </tr>\\n  </thead>\\n  <tbody>\\n    <tr>\\n      <td>Mars - Earth Comparison</td>\\n      <td>Mars</td>\\n    </tr>\\n    <tr>\\n      <td>Diameter:</td>\\n      <td>6,779 km</td>\\n    </tr>\\n    <tr>\\n      <td>Mass:</td>\\n      <td>6.39 × 10^23 kg</td>\\n    </tr>\\n    <tr>\\n      <td>Moons:</td>\\n      <td>2</td>\\n    </tr>\\n    <tr>\\n      <td>Distance from Sun:</td>\\n      <td>227,943,824 km</td>\\n    </tr>\\n    <tr>\\n      <td>Length of Year:</td>\\n      <td>687 Earth days</td>\\n    </tr>\\n    <tr>\\n      <td>Temperature:</td>\\n      <td>-87 to -5 °C</td>\\n    </tr>\\n  </tbody>\\n</table>'"
      ]
     },
     "metadata": {},
     "execution_count": 157
    }
   ],
   "metadata": {}
  },
  {
   "cell_type": "code",
   "execution_count": 151,
   "source": [
    "# Visit hemispheres website through splinter module \r\n",
    "hemispheres_url = 'https://marshemispheres.com/'\r\n",
    "browser.visit(hemispheres_url)"
   ],
   "outputs": [],
   "metadata": {}
  },
  {
   "cell_type": "code",
   "execution_count": 152,
   "source": [
    "# HTML Object\r\n",
    "html_hemispheres = browser.html\r\n",
    "\r\n",
    "# Parse HTML with Beautiful Soup\r\n",
    "soup = BeautifulSoup(html_hemispheres, 'html.parser')\r\n",
    "\r\n",
    "# Retreive all items that contain mars hemispheres information\r\n",
    "items = soup.find_all('div', class_='item')\r\n",
    "\r\n",
    "hemisphere_image_urls = []\r\n",
    "\r\n",
    "# Store the main_ul \r\n",
    "hemispheres_main_url = 'https://marshemispheres.com/'\r\n",
    "\r\n",
    "# Loop through the items previously stored\r\n",
    "for i in items: \r\n",
    "    # Store title\r\n",
    "    title = i.find('h3').text\r\n",
    "    \r\n",
    "    # Store link that leads to full image website\r\n",
    "    partial_img_url = i.find('a', class_='itemLink product-item')['href']\r\n",
    "    \r\n",
    "    # Visit the link that contains the full image website \r\n",
    "    browser.visit(hemispheres_main_url + partial_img_url)\r\n",
    "    \r\n",
    "    # HTML Object of individual hemisphere information website \r\n",
    "    partial_img_html = browser.html\r\n",
    "    \r\n",
    "    # Parse HTML with Beautiful Soup for every individual hemisphere information website \r\n",
    "    soup = BeautifulSoup( partial_img_html, 'html.parser')\r\n",
    "    \r\n",
    "    # Retrieve full image source \r\n",
    "    img_url = hemispheres_main_url + soup.find('img', class_='wide-image')['src']\r\n",
    "    \r\n",
    "    # Append the retreived information into a list of dictionaries \r\n",
    "    hemisphere_image_urls.append({\"title\" : title, \"img_url\" : img_url})\r\n",
    "        \r\n",
    "# Display hemisphere_image_urls\r\n",
    "print(hemisphere_image_urls)"
   ],
   "outputs": [
    {
     "output_type": "stream",
     "name": "stdout",
     "text": [
      "[{'title': 'Cerberus Hemisphere Enhanced', 'img_url': 'https://marshemispheres.com/images/f5e372a36edfa389625da6d0cc25d905_cerberus_enhanced.tif_full.jpg'}, {'title': 'Schiaparelli Hemisphere Enhanced', 'img_url': 'https://marshemispheres.com/images/3778f7b43bbbc89d6e3cfabb3613ba93_schiaparelli_enhanced.tif_full.jpg'}, {'title': 'Syrtis Major Hemisphere Enhanced', 'img_url': 'https://marshemispheres.com/images/555e6403a6ddd7ba16ddb0e471cadcf7_syrtis_major_enhanced.tif_full.jpg'}, {'title': 'Valles Marineris Hemisphere Enhanced', 'img_url': 'https://marshemispheres.com/images/b3c7c6c9138f57b4756be9b9c43e3a48_valles_marineris_enhanced.tif_full.jpg'}]\n"
     ]
    }
   ],
   "metadata": {}
  },
  {
   "cell_type": "code",
   "execution_count": null,
   "source": [],
   "outputs": [],
   "metadata": {}
  }
 ],
 "metadata": {
  "kernelspec": {
   "display_name": "Python 3",
   "language": "python",
   "name": "python3"
  },
  "language_info": {
   "codemirror_mode": {
    "name": "ipython",
    "version": 3
   },
   "file_extension": ".py",
   "mimetype": "text/x-python",
   "name": "python",
   "nbconvert_exporter": "python",
   "pygments_lexer": "ipython3",
   "version": "3.8.5"
  }
 },
 "nbformat": 4,
 "nbformat_minor": 4
}